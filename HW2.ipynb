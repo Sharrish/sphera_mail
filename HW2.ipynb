{
 "cells": [
  {
   "cell_type": "code",
   "execution_count": 1,
   "metadata": {},
   "outputs": [
    {
     "name": "stderr",
     "output_type": "stream",
     "text": [
      "[nltk_data] Downloading package stopwords to /home/sait/nltk_data...\n",
      "[nltk_data]   Package stopwords is already up-to-date!\n"
     ]
    }
   ],
   "source": [
    "import numpy as np\n",
    "import pandas as pd\n",
    "import re\n",
    "import pymorphy2\n",
    "from sklearn.model_selection import train_test_split\n",
    "from sklearn.feature_extraction.text import CountVectorizer\n",
    "from sklearn.feature_extraction.text import TfidfTransformer\n",
    "from nltk.corpus import stopwords\n",
    "import nltk\n",
    "from sklearn.metrics import f1_score\n",
    "from sklearn.pipeline import Pipeline\n",
    "from sklearn.utils import shuffle\n",
    "from sklearn.model_selection import GridSearchCV\n",
    "from sklearn.linear_model import LogisticRegression\n",
    "from sklearn.feature_selection import chi2\n",
    "from sklearn.feature_selection import SelectKBest\n",
    "import scipy as sp\n",
    "\n",
    "nltk.download('stopwords')\n",
    "stopWords = stopwords.words('russian')\n",
    "\n",
    "train_df = pd.read_csv(\"train.csv\")\n",
    "test_df = pd.read_csv(\"test.csv\")\n",
    "train_df.drop_duplicates(inplace=True)\n",
    "test_df.drop_duplicates(inplace=True)"
   ]
  },
  {
   "cell_type": "code",
   "execution_count": 2,
   "metadata": {},
   "outputs": [],
   "source": [
    "morph = pymorphy2.MorphAnalyzer()\n",
    "\n",
    "def tokenize_url(url:str):   \n",
    "    url = re.sub(\"(\\W|_)+\",\" \",url)\n",
    "    return url\n",
    "\n",
    "def pymorphy_text(text:str):\n",
    "    lst = text.split()\n",
    "    lst_new = [morph.parse(str(word))[0].normal_form for word in lst]\n",
    "    new_text = ' '.join(lst_new)\n",
    "    return new_text\n",
    "\n",
    "train_df['tokenized_url']=train_df['url'].apply(lambda x: tokenize_url(x))\n",
    "train_df['text'] = train_df['tokenized_url'] + ' ' + train_df['title']\n",
    "train_df['text']=train_df['text'].apply(lambda x:pymorphy_text(x))\n",
    "\n",
    "test_df['tokenized_url']=test_df['url'].apply(lambda x: tokenize_url(x))\n",
    "test_df['text'] = test_df['tokenized_url'] + ' ' + test_df['title']\n",
    "test_df['text']=test_df['text'].apply(lambda x: pymorphy_text(x))\n",
    "\n",
    "stopWords = [morph.parse(str(word))[0].normal_form for word in stopWords]"
   ]
  },
  {
   "cell_type": "code",
   "execution_count": 3,
   "metadata": {},
   "outputs": [],
   "source": [
    "# Тестовое разделение\n",
    "# x_train, x_test, y_train, y_test = train_test_split(train_df[\"text\"].values, train_df[\"target\"].values, test_size=0.35, random_state=42)\n",
    "# url_train, url_test, _, _ = train_test_split(train_df[\"url\"].values, train_df[\"target\"].values, test_size=0.35, random_state=42)"
   ]
  },
  {
   "cell_type": "code",
   "execution_count": 3,
   "metadata": {},
   "outputs": [],
   "source": [
    "# Жизненное разделение \n",
    "x_train, y_train, x_test = train_df[\"text\"].values, train_df[\"target\"].values, test_df[\"text\"].values\n",
    "url_train, url_test = train_df[\"url\"].values, test_df['url'].values"
   ]
  },
  {
   "cell_type": "code",
   "execution_count": 4,
   "metadata": {},
   "outputs": [
    {
     "name": "stderr",
     "output_type": "stream",
     "text": [
      "/usr/local/lib/python3.6/dist-packages/sklearn/feature_extraction/text.py:300: UserWarning: Your stop_words may be inconsistent with your preprocessing. Tokenizing the stop words generated tokens ['большои', 'другои', 'еще', 'какои', 'мои', 'свои', 'сеичас', 'такои', 'хорошии'] not in stop_words.\n",
      "  'stop_words.' % sorted(inconsistent))\n"
     ]
    }
   ],
   "source": [
    "vectorizer = CountVectorizer(min_df = 3, analyzer='word', strip_accents='unicode',\n",
    "                                                 encoding='utf-16', stop_words = stopWords)\n",
    "tfidf_transformer = TfidfTransformer(sublinear_tf=True)\n",
    "x_train_v = vectorizer.fit_transform(x_train)\n",
    "x_train_t = tfidf_transformer.fit_transform(x_train_v)\n",
    "all_in_SelectKBest = x_train_t.shape[1]"
   ]
  },
  {
   "cell_type": "code",
   "execution_count": 5,
   "metadata": {},
   "outputs": [],
   "source": [
    "from sklearn import preprocessing\n",
    "\n",
    "def get_additional_features(data):\n",
    "    \n",
    "    \n",
    "    a5 = np.asarray([[i.count('https') for i in data]])\n",
    "    a6 = np.asarray([[i.count('xxx') for i in data]])\n",
    "    a7 = np.asarray([[i.count('devk') for i in data]])\n",
    "    a8 = np.asarray([[i.count('hd') for i in data]])\n",
    "    a9 = np.asarray([[i.count('club') for i in data]])\n",
    "    a10 = np.asarray([[i.count('hub') for i in data]])\n",
    "    a11 = np.asarray([[i.count('sex') for i in data]])\n",
    "    a12 = np.asarray([[i.count('girl') for i in data]])\n",
    "    a13 = np.asarray([[i.count('seks') for i in data]])\n",
    "    a14 = np.asarray([[i.count('ebl') for i in data]])\n",
    "    a15 = np.asarray([[i.count('video') for i in data]])\n",
    "    a16 = np.asarray([[i.count('24') for i in data]])\n",
    "\n",
    "    mas = np.concatenate([a5, a6, a7, a8, a9, a10, a11, a12,\n",
    "                           a13, a14, a15, a16]).T\n",
    "    return preprocessing.normalize(mas)"
   ]
  },
  {
   "cell_type": "code",
   "execution_count": 6,
   "metadata": {},
   "outputs": [
    {
     "name": "stderr",
     "output_type": "stream",
     "text": [
      "/usr/local/lib/python3.6/dist-packages/sklearn/feature_extraction/text.py:300: UserWarning: Your stop_words may be inconsistent with your preprocessing. Tokenizing the stop words generated tokens ['большои', 'другои', 'еще', 'какои', 'мои', 'свои', 'сеичас', 'такои', 'хорошии'] not in stop_words.\n",
      "  'stop_words.' % sorted(inconsistent))\n"
     ]
    },
    {
     "name": "stdout",
     "output_type": "stream",
     "text": [
      "[LibLinear]1\n"
     ]
    }
   ],
   "source": [
    "# LogisticRegression\n",
    "\n",
    "class MyTrasform:\n",
    "    train = 0\n",
    "    def transform(self, X, **fit_params):\n",
    "        MyTrasform.train += 1\n",
    "        xx=get_additional_features(url_train if MyTrasform.train == 1 else url_test)\n",
    "        new_X = X\n",
    "        new_X = sp.sparse.hstack((new_X, xx))\n",
    "        return new_X\n",
    "\n",
    "    def fit_transform(self, X, y=None,  **fit_params):\n",
    "        self.fit(X, y,  **fit_params)\n",
    "        return self.transform(X)\n",
    "\n",
    "    def fit(self, X, y, **fit_params):\n",
    "        return self \n",
    "    \n",
    "    \n",
    "text_clf_LR = Pipeline([('vect', CountVectorizer(min_df = 3, analyzer='word', strip_accents='unicode',\n",
    "                                                 encoding='utf-16', stop_words = stopWords)),\n",
    "                      ('tfidf', TfidfTransformer(sublinear_tf=True)),\n",
    "                      ('add_url', MyTrasform()),\n",
    "                      ('feat_select', SelectKBest(chi2, k=int(all_in_SelectKBest * 0.97))),\n",
    "                      ('clf', LogisticRegression(dual = True, verbose=3, solver='liblinear',\n",
    "                                                 random_state=0, C=83, penalty='l2', max_iter=10000)),\n",
    "])\n",
    "\n",
    "\n",
    "text_clf_LR.fit(x_train, y_train)\n",
    "predicted_LR = text_clf_LR.predict(x_test)\n",
    "# print(f1_score(y_test, predicted_LR))"
   ]
  },
  {
   "cell_type": "code",
   "execution_count": 7,
   "metadata": {},
   "outputs": [
    {
     "name": "stdout",
     "output_type": "stream",
     "text": [
      "id,target\r\n",
      "135309,False\r\n",
      "135310,False\r\n",
      "135311,False\r\n",
      "135312,True\r\n",
      "135313,False\r\n",
      "135314,False\r\n",
      "135315,False\r\n",
      "135316,False\r\n",
      "135317,False\r\n",
      "cat: ошибка записи: Обрыв канала\r\n"
     ]
    }
   ],
   "source": [
    "# Выводим результаты:\n",
    "predicted_LR = text_clf_LR.predict(x_test)\n",
    "test_df[\"target\"] = predicted_LR.astype(bool)\n",
    "test_df[[\"id\", \"target\"]].to_csv(\"ml_baseline.csv\", index=False)\n",
    "!cat ml_baseline.csv | head"
   ]
  },
  {
   "cell_type": "code",
   "execution_count": null,
   "metadata": {},
   "outputs": [],
   "source": []
  }
 ],
 "metadata": {
  "kernelspec": {
   "display_name": "Python 3",
   "language": "python",
   "name": "python3"
  },
  "language_info": {
   "codemirror_mode": {
    "name": "ipython",
    "version": 3
   },
   "file_extension": ".py",
   "mimetype": "text/x-python",
   "name": "python",
   "nbconvert_exporter": "python",
   "pygments_lexer": "ipython3",
   "version": "3.6.8"
  }
 },
 "nbformat": 4,
 "nbformat_minor": 2
}
